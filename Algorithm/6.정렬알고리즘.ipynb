{
 "cells": [
  {
   "cell_type": "markdown",
   "metadata": {},
   "source": [
    "# 정렬"
   ]
  },
  {
   "cell_type": "markdown",
   "metadata": {},
   "source": [
    "## 1. 선택정렬"
   ]
  },
  {
   "cell_type": "markdown",
   "metadata": {},
   "source": [
    ": 가장 작은 데이터를 선택해 맨 앞에 있는 데이터와 바꾸고,\n",
    "\n",
    "   그 다음 작은 데이터를 선택해 앞에서 두 번째 데이터와 바꾸는 과정을 반복\n",
    "   \n",
    "   시간복잡도 : O(n*2)"
   ]
  },
  {
   "cell_type": "code",
   "execution_count": 3,
   "metadata": {},
   "outputs": [
    {
     "name": "stdout",
     "output_type": "stream",
     "text": [
      "[0, 1, 2, 3, 4, 5, 6, 7, 8, 9]\n"
     ]
    }
   ],
   "source": [
    "array = [ 7, 5, 9, 0, 3, 1, 6, 2, 4, 8]\n",
    "\n",
    "for i in range(len(array)):\n",
    "    min_index = i\n",
    "    for j in range(i+1, len(array)):\n",
    "        if array[j] < array[min_index]:\n",
    "            min_index = j\n",
    "            \n",
    "    # 스와프   \n",
    "    array[i], array[min_index] = array[min_index], array[i]\n",
    "print(array)\n",
    "            "
   ]
  },
  {
   "cell_type": "markdown",
   "metadata": {},
   "source": [
    "## 2. 삽입정렬"
   ]
  },
  {
   "cell_type": "markdown",
   "metadata": {},
   "source": [
    ": 현재 데이터가 거의 정렬되있는 상태에서 \n",
    "    \n",
    " 두번째 데이터부터 삽입할 위치 찾아서 삽입 후 반복\n",
    "  \n",
    " 데이터가 거의 정렬된 상태에서는 퀵정렬 알고리즘 보다 강력\n",
    "\n",
    " 시간복잡도 : O(n*2)"
   ]
  },
  {
   "cell_type": "code",
   "execution_count": 5,
   "metadata": {},
   "outputs": [
    {
     "name": "stdout",
     "output_type": "stream",
     "text": [
      "[0, 1, 2, 3, 4, 5, 6, 7, 8, 9]\n"
     ]
    }
   ],
   "source": [
    "array = [ 7, 5, 9, 0, 3, 1, 6, 2, 4, 8]\n",
    "\n",
    "for i in range(1,len(array)): #인덱스 i부터 1까지 감소하며 반복하는 문법\n",
    "    for j in range(i,0,-1): # 한 칸씩 왼쪽으로 이동\n",
    "        if array[j] < array[j-1]:\n",
    "            array[j-1], array[j] = array[j], array[j-1]\n",
    "        \n",
    "        else: # 자기보다 작은 데이터를 만나면 그 위치에서 멈춤\n",
    "            break\n",
    "            \n",
    "print(array)"
   ]
  },
  {
   "cell_type": "markdown",
   "metadata": {},
   "source": [
    "## 3. 퀵정렬"
   ]
  },
  {
   "cell_type": "markdown",
   "metadata": {},
   "source": [
    ": 기준 데이터(pivot)을 설정하고 그 기준보다 큰 데이터와 작은 데이터의 위치 바꿈\n",
    "\n",
    "   피벗 기준으로 왼쪽에서는 피벗보다 큰 데이터, 오른쪽에서는 피벗보다 작은 데이터를 \n",
    "   \n",
    "   찾으면 두 데이터 위치 바꿈, 크로스 지점에서는 작은데이터와 피벗데이터 바꿈.\n",
    "   \n",
    "   \n",
    "\n",
    "*호어 분할(Hoare Partition)*: 리스트에서 첫 번째 데이터를 피벗으로 정함"
   ]
  },
  {
   "cell_type": "code",
   "execution_count": 7,
   "metadata": {},
   "outputs": [
    {
     "name": "stdout",
     "output_type": "stream",
     "text": [
      "[0, 1, 2, 4, 3, 5, 6, 7, 9, 8]\n"
     ]
    }
   ],
   "source": [
    "array = [ 5, 7, 9, 0, 3, 1, 6, 2, 4, 8]\n",
    "\n",
    "def quick_sort(array, start, end):\n",
    "    if start>= end:\n",
    "        return\n",
    "    \n",
    "    pivot = start\n",
    "    left = start +1\n",
    "    right = end\n",
    "    \n",
    "    while left<right:\n",
    "        #피벗보다 큰 데이터를 찾을 때 까지 반복\n",
    "        while left<=end and array[left]<= array[pivot]:\n",
    "            left += 1\n",
    "\n",
    "        #피벗보다 작은 데이터를 찾을 때 까지 반복\n",
    "        while right>start and array[right]>= array[pivot]:\n",
    "            right -= 1\n",
    "\n",
    "        if left > right: # 엇갈렸다면 작은 데이터와 피벗을 교체\n",
    "            array[right], array[pivot] = array[pivot], array[right]\n",
    "            \n",
    "        else: #엇갈리지 않았다면 작은 데이터와 피벗 교체\n",
    "            array[left], array[pivot] = array[pivot], array[left]\n",
    "    \n",
    "    quick_sort(array, start, right-1)\n",
    "    quick_sort(array, right+1, end)\n",
    "\n",
    "quick_sort(array,0,len(array)-1)\n",
    "print(array)"
   ]
  },
  {
   "cell_type": "markdown",
   "metadata": {},
   "source": [
    "#### 파이썬의 장점을 살린 퀵 정렬 소스 코드"
   ]
  },
  {
   "cell_type": "code",
   "execution_count": 8,
   "metadata": {},
   "outputs": [
    {
     "name": "stdout",
     "output_type": "stream",
     "text": [
      "[0, 1, 2, 3, 4, 5, 6, 7, 8, 9]\n"
     ]
    }
   ],
   "source": [
    "array = [5, 7, 9, 0, 3, 1 ,6 ,2, 4, 8]\n",
    "\n",
    "def quick_sort(array):\n",
    "    if len(array) <= 1:\n",
    "        return array\n",
    "\n",
    "    pivot = array[0] # 피벗은 첫 번째 원소\n",
    "    tail = array[1:] # 피벗을 제외한 리스트\n",
    "    \n",
    "    left_side = [x for x in tail if x <= pivot] # 분할된 왼쪽 부분\n",
    "    right_side = [x for x in tail if x > pivot] # 분할된 오른쪽 부분\n",
    "    \n",
    "    # 분할 이후 왼쪽 부분과 오른쪽 부분에서 각각 정렬을 수행하고, 전체 리스트를 반환\n",
    "    return quick_sort(left_side) + [pivot] + quick_sort(right_side)\n",
    "\n",
    "print(quick_sort(array))"
   ]
  },
  {
   "cell_type": "markdown",
   "metadata": {},
   "source": [
    "## 4. 계수 정렬"
   ]
  },
  {
   "cell_type": "markdown",
   "metadata": {},
   "source": [
    ": 데이터의 크기 범위가 제한되어 정수 형태로 표현 할  수 있을 때만 사용 가능\n",
    "\n",
    " 동일한 값을 가지는 데이터가 여러 개 등장 할 때 적합.\n",
    "\n",
    " 시간 복잡도 : O(N+K)"
   ]
  },
  {
   "cell_type": "code",
   "execution_count": 9,
   "metadata": {},
   "outputs": [
    {
     "name": "stdout",
     "output_type": "stream",
     "text": [
      "0 0 1 1 2 2 3 4 5 5 6 7 8 9 9 "
     ]
    }
   ],
   "source": [
    "# 모든 원소의 값이 0보다 크거나 같다고 가정\n",
    "array = [7,5,9,0,3,1,6,2,9,1,4,8,0,5,2]\n",
    "\n",
    "# 모든 범위를 포함하는 리스트 선언(모든 값은 0으로 초기화)\n",
    "count = [0] * (max(array)+1)\n",
    "\n",
    "for i in range(len(array)):\n",
    "    count[array[i]] += 1 # 각 데이터에 해당하는 인덱스 값 증가\n",
    "\n",
    "for i in range(len(count)): # 리스트에 기록된 정렬 정보 확인\n",
    "    for j in range(count[i]):\n",
    "        print(i, end=' ') #띄어쓰기를 구분으로 등장한 횟수만큼 인덱스 출력"
   ]
  },
  {
   "cell_type": "markdown",
   "metadata": {},
   "source": [
    "### 파이썬의 정렬 라이브러리"
   ]
  },
  {
   "cell_type": "markdown",
   "metadata": {},
   "source": [
    "1. sorted() \n",
    " : 퀵정렬과 비슷한 병합 정렬 기반 기본 정렬 라이브러리 함수 (O(NlogN))\n",
    " \n",
    "   리스트, 딕셔너리, 집합 자료형 사용 가능\n",
    "\n",
    "2. sort()\n",
    " : 리스트 객체 내장 함수, 내부 원소를 바로 정렬 가능 \n",
    " "
   ]
  },
  {
   "cell_type": "markdown",
   "metadata": {},
   "source": [
    "### 실전문제 1 - 위에서 아래로"
   ]
  },
  {
   "cell_type": "code",
   "execution_count": null,
   "metadata": {},
   "outputs": [],
   "source": [
    "n = int(input())\n",
    "\n",
    "lst = list(map(int, input().split()))\n",
    "\n",
    "lst = sorted(lst, reverse=True)\n",
    "\n",
    "for i in lst:\n",
    "    print(i, end=' ')"
   ]
  },
  {
   "cell_type": "markdown",
   "metadata": {},
   "source": [
    "### 실전문제 2 - 성적이 낮은 순서로 학생 출력하기"
   ]
  },
  {
   "cell_type": "code",
   "execution_count": null,
   "metadata": {},
   "outputs": [],
   "source": [
    "n = int(input())\n",
    "\n",
    "array = []\n",
    "\n",
    "for i in range(n):\n",
    "    data = input().split()\n",
    "    array.append((data[0], int(data[1])))\n",
    "\n",
    "array = sorted(array, key=lambda student : student[1])\n",
    "for  student in array:\n",
    "    print(student[0], end=' ')\n",
    "    "
   ]
  },
  {
   "cell_type": "markdown",
   "metadata": {},
   "source": [
    "### 실전문제 3 - 두 배열의 원소 교체"
   ]
  },
  {
   "cell_type": "code",
   "execution_count": null,
   "metadata": {},
   "outputs": [],
   "source": [
    "n, k = map(int, input().split())\n",
    "\n",
    "A ,B= list(), list()\n",
    "for i in range(n):\n",
    "    A.append(int(input()))\n",
    "for i in range(n):\n",
    "    B.append(int(input()))\n",
    "\n",
    "A.sort()\n",
    "B.sort(reverse=True)\n",
    "\n",
    "for i in range(k):\n",
    "    A[i],B[i] = B[i], A[i]\n",
    "\n",
    "print(sum(A))"
   ]
  },
  {
   "cell_type": "code",
   "execution_count": null,
   "metadata": {},
   "outputs": [],
   "source": [
    "n, k = map(int, input(),split())\n",
    "\n",
    "a = list(map(int, input().split()))\n",
    "b = list(map(int, input().split()))\n",
    "\n",
    "a.sort()\n",
    "b.sort(reverse=True)\n",
    "\n",
    "for i in range(k):\n",
    "    if a[i]<b[i]:\n",
    "        a[i],b[i] = b[i],a[i]\n",
    "    else:\n",
    "        break\n",
    "\n",
    "print(sum(a))"
   ]
  }
 ],
 "metadata": {
  "kernelspec": {
   "display_name": "Python 3",
   "language": "python",
   "name": "python3"
  },
  "language_info": {
   "codemirror_mode": {
    "name": "ipython",
    "version": 3
   },
   "file_extension": ".py",
   "mimetype": "text/x-python",
   "name": "python",
   "nbconvert_exporter": "python",
   "pygments_lexer": "ipython3",
   "version": "3.7.4"
  }
 },
 "nbformat": 4,
 "nbformat_minor": 2
}
