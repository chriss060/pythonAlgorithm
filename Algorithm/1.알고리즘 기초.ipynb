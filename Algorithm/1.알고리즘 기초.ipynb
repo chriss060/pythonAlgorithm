{
 "cells": [
  {
   "cell_type": "markdown",
   "id": "afa6c437",
   "metadata": {},
   "source": [
    "## Chapter 1: 알고리즘 기초 예제"
   ]
  },
  {
   "cell_type": "markdown",
   "id": "9ca45be9",
   "metadata": {},
   "source": [
    "### 실습 1C-2 : 세 정수를 입력받아 중앙값 구하기"
   ]
  },
  {
   "cell_type": "code",
   "execution_count": 1,
   "id": "1eed0db9",
   "metadata": {},
   "outputs": [],
   "source": [
    "def med3(a,b,c):\n",
    "    if(c<=a<=b): #(a>=b and c<= a) or (b<=a and c>=a)\n",
    "        return a\n",
    "    elif(c<b<a): #(a>b and c < b) or (a < b and c > b)\n",
    "        return b\n",
    "    return c\n",
    "    "
   ]
  },
  {
   "cell_type": "markdown",
   "id": "bb92e0d7",
   "metadata": {},
   "source": [
    "### 실습 1-9: a부터 b까지 정수의 합 구하기\n"
   ]
  },
  {
   "cell_type": "code",
   "execution_count": null,
   "id": "9e50c6a3",
   "metadata": {},
   "outputs": [
    {
     "name": "stdout",
     "output_type": "stream",
     "text": [
      "a부터 b까지 정수의 합을 구합니다.\n"
     ]
    }
   ],
   "source": [
    "print('a부터 b까지 정수의 합을 구합니다.')\n",
    "a = int(input('정수 a를 입력하세요.: '))\n",
    "b = int(input('정수 b를 입력하세요.: '))\n",
    "\n",
    "#a,b 오름차순 정렬\n",
    "if a>b:\n",
    "    a,b = b,a\n",
    "\n",
    "sum = 0\n",
    "for i in range(a, b+1): #반복횟수는 b-a번\n",
    "    sum +=i\n",
    "\n",
    "print(f'{a}부터 {b}까지 정수의 합은 {sum}입니다.');"
   ]
  },
  {
   "cell_type": "markdown",
   "id": "92a20440",
   "metadata": {},
   "source": [
    "### 실습 1-10: 반복 과정에서 조건 판단하기"
   ]
  },
  {
   "cell_type": "code",
   "execution_count": null,
   "id": "d173d035",
   "metadata": {},
   "outputs": [],
   "source": [
    "# a부터 b까지 정수의 합 구하기\n",
    "print('a부터 b까지 정수의 합을 구합니다.')\n",
    "a = int(input('정수 a를 입력하세요.: '))\n",
    "b = int(input('정수 b를 입력하세요.: '))\n",
    "\n",
    "#a,b 오름차순 정렬\n",
    "if a>b:\n",
    "    a,b = b,a\n",
    "\n",
    "sum = 0\n",
    "for i in range(a,b):\n",
    "    print(f'{i} + ', end='')\n",
    "    sum+=i\n",
    "\n",
    "print(f'{b} = ', end='')\n",
    "sum+=b\n",
    "\n",
    "print(sum)"
   ]
  },
  {
   "cell_type": "markdown",
   "id": "4f4afacb",
   "metadata": {},
   "source": [
    "### 실습 1-12 : +,- 번갈아 출력"
   ]
  },
  {
   "cell_type": "code",
   "execution_count": 1,
   "id": "ed5d761a",
   "metadata": {},
   "outputs": [
    {
     "name": "stdout",
     "output_type": "stream",
     "text": [
      "+ 와 -를 번갈아 출력합니다.\n",
      "몇 개를 출력할까요?: 5\n",
      "+-+-+"
     ]
    }
   ],
   "source": [
    "print(\"+ 와 -를 번갈아 출력합니다.\")\n",
    "n = int(input('몇 개를 출력할까요?: '))\n",
    "\n",
    "for i in range(n):\n",
    "    if i % 2:  \n",
    "        print('-', end='') #홀수인 경우 \n",
    "    else:\n",
    "        print('+', end='') #짝수인 경우"
   ]
  },
  {
   "cell_type": "markdown",
   "id": "6a04461c",
   "metadata": {},
   "source": [
    "### 실습 1-13 : +와 -를 번갈아 출력하기 2"
   ]
  },
  {
   "cell_type": "code",
   "execution_count": 2,
   "id": "5caa4b73",
   "metadata": {},
   "outputs": [
    {
     "name": "stdout",
     "output_type": "stream",
     "text": [
      "+ 와 -를 번갈아 출력합니다.\n",
      "몇 개를 출력할까요?: 15\n",
      "+-+-+-+-+-+-+-+\n"
     ]
    }
   ],
   "source": [
    "print(\"+ 와 -를 번갈아 출력합니다.\")\n",
    "n = int(input('몇 개를 출력할까요?: '))\n",
    "\n",
    "for _ in range(n//2):\n",
    "    print('+-', end='') # +-를 n//2개의 출력\n",
    "\n",
    "if n%2:\n",
    "    print('+', end='') #n이 홀수일 때만 +를 출력\n",
    "    \n",
    "print()"
   ]
  },
  {
   "cell_type": "markdown",
   "id": "be4f7b03",
   "metadata": {},
   "source": [
    "### 실습 1-18 : 10~99 사이의 난수 n개 생성 "
   ]
  },
  {
   "cell_type": "markdown",
   "id": "d4dcb493",
   "metadata": {},
   "source": [
    "#### 조건: 13이 나오면 중단"
   ]
  },
  {
   "cell_type": "code",
   "execution_count": 3,
   "id": "0cdd30a7",
   "metadata": {},
   "outputs": [
    {
     "name": "stdout",
     "output_type": "stream",
     "text": [
      "난수의 개수를 입력하세요.: 9\n",
      "31 46 97 36 74 24 39 67 69 \n",
      "난수 생성을 종료합니다.\n"
     ]
    }
   ],
   "source": [
    "import random\n",
    "\n",
    "n=int(input('난수의 개수를 입력하세요.: '))\n",
    "\n",
    "for _ in range(n): #10과 99사이의 임의의 난수 n번 생성\n",
    "    r = random.randint(10,99)\n",
    "    print(r, end=' ')\n",
    "    if r==13:\n",
    "        print('\\n프로그램을 종료합니다.')\n",
    "        break;\n",
    "        \n",
    "else:\n",
    "    print('\\n난수 생성을 종료합니다.')\n"
   ]
  },
  {
   "cell_type": "markdown",
   "id": "7bd3bb6e",
   "metadata": {},
   "source": [
    "### 실습 1-14 : *를 출력하되 w개마다 줄바꿈하기 1"
   ]
  },
  {
   "cell_type": "code",
   "execution_count": null,
   "id": "566ac1ff",
   "metadata": {},
   "outputs": [],
   "source": [
    "print('*를 출력합니다.')\n",
    "n = int(input('몇 개를 출력할까요?: '))\n",
    "W = int(input('몇 개마다 줄 바꿈을 할까요?: '))\n",
    "\n",
    "for i in range(n):\n",
    "    print(\"*\", end='')\n",
    "    if i % w == W - 1: #n번 판단\n",
    "        print()\n",
    "\n",
    "if n % w:\n",
    "    print() #줄바꿈"
   ]
  },
  {
   "cell_type": "code",
   "execution_count": null,
   "id": "06dea77f",
   "metadata": {},
   "outputs": [],
   "source": [
    "# *를 n개 출력하되 w개마다 줄바꿈하기 2\n",
    "print('*를 출력합니다.')\n",
    "n = int(input('몇 개를 출력할까요?: '))\n",
    "W = int(input('몇 개마다 줄 바꿈을 할까요?: '))\n",
    "\n",
    "for _ in range(n//w):\n",
    "    print('*'*w)\n",
    "\n",
    "rest = n % w\n",
    "if rest:\n",
    "    print('*'* rest)\n"
   ]
  },
  {
   "cell_type": "markdown",
   "id": "3abe4200",
   "metadata": {},
   "source": [
    "### 실습 1-16 : 1부터 n까지 정수의 합 구하기(n값 양수만 입력받음)"
   ]
  },
  {
   "cell_type": "code",
   "execution_count": null,
   "id": "86a9e56c",
   "metadata": {},
   "outputs": [],
   "source": [
    "print('1부터 n까지 정수의 합 구하기')\n",
    "\n",
    "while True:\n",
    "    n = int(input('n값을 입력하세요: '))\n",
    "    if n > 0:\n",
    "        break; #n이 0보다 커질 때까지 반복\n",
    "\n",
    "sum = 0\n",
    "i = 1\n",
    "\n",
    "for i in range(1, n+1):\n",
    "    sum += i #sum에 i를 더함\n",
    "    i += 1 #i에 1을 더함\n",
    "\n",
    "print(f'1부터 {n}까지 정수의 합은 {sum}입니다.')"
   ]
  },
  {
   "cell_type": "markdown",
   "id": "2a4f2b6d",
   "metadata": {},
   "source": [
    "### 실습 1-17 : 넓이가 area인 직사각형에서 변의 길이 나열하기"
   ]
  },
  {
   "cell_type": "code",
   "execution_count": null,
   "id": "3a1b3bc9",
   "metadata": {},
   "outputs": [],
   "source": [
    "area = int(input('직사각형의 넓이를 입력하세요.: '))\n",
    "\n",
    "for i in range(1, area+1):\n",
    "    if i*i > area: continue\n",
    "    print(f'{i}x {area // i}')"
   ]
  },
  {
   "cell_type": "markdown",
   "id": "412fedb6",
   "metadata": {},
   "source": [
    "### 실습 1-21 : 구구단 곱셈표 "
   ]
  },
  {
   "cell_type": "code",
   "execution_count": null,
   "id": "ea1e09b3",
   "metadata": {},
   "outputs": [],
   "source": [
    "#이중 for문 사용한 구구단 \n",
    "print('-'*27)\n",
    "\n",
    "for i in range(1,10):\n",
    "    for j in range(1,10):\n",
    "        print(f'{i*j:3}', end='')\n",
    "    print() # 행 변경\n",
    "\n",
    "print('-'*27)\n",
    "              "
   ]
  },
  {
   "cell_type": "markdown",
   "id": "3c9678fc",
   "metadata": {},
   "source": [
    "### 실습 1-22 : 직각 이등변 삼각형 출력하기"
   ]
  },
  {
   "cell_type": "code",
   "execution_count": null,
   "id": "ca62e37b",
   "metadata": {},
   "outputs": [],
   "source": [
    "#왼쪽 아래가 직각인 이등변 삼각형으로 * 출력하기\n",
    "\n",
    "print('왼쪽 아래가 직각인 이등변 삼각형을 출력합니다.')\n",
    "n = int(input('짧은 변의 길이를 입력하세요.: '))\n",
    "\n",
    "for i in range(n):\n",
    "    for j in range(i+1):\n",
    "        print(\"*\", end='')\n",
    "    print()\n",
    "    "
   ]
  },
  {
   "cell_type": "code",
   "execution_count": null,
   "id": "a6833be1",
   "metadata": {},
   "outputs": [],
   "source": [
    "#오른쪽 아래가 직각인 이등변 삼각형으로 * 출력하기\n",
    "\n",
    "print('오른쪽 아래가 직각인 이등변 삼각형을 출력합니다.')\n",
    "n = int(input('짧은 변의 길이를 입력하세요.: '))\n",
    "\n",
    "for i in range(n):\n",
    "    for _ in range(n-i-1):\n",
    "        print(\" \", end='')\n",
    "        \n",
    "    for _ in range(i+1):\n",
    "        print(\"*\", end='')"
   ]
  },
  {
   "cell_type": "code",
   "execution_count": null,
   "id": "6466ea8a",
   "metadata": {},
   "outputs": [],
   "source": [
    "#보충 실습 1C-4 : 함수 내부, 외부에서 정의한 변수와 객체의 식별번호 출력\n",
    "\n",
    "n=1 #전역변수 n\n",
    "\n",
    "def put_():\n",
    "    x=1 #지역변수 x\n",
    "    print(f'id(x)={'id(x)'}')\n",
    "\n",
    "print(f'id(1)={'id(1)'}') #숫자 1도 객체 취급\n",
    "print(f'id(n)={'id(n)'}') #전역변수 n도 객체\n",
    "put_id(x) #지역변수 x도 객체"
   ]
  }
 ],
 "metadata": {
  "kernelspec": {
   "display_name": "Python 3 (ipykernel)",
   "language": "python",
   "name": "python3"
  },
  "language_info": {
   "codemirror_mode": {
    "name": "ipython",
    "version": 3
   },
   "file_extension": ".py",
   "mimetype": "text/x-python",
   "name": "python",
   "nbconvert_exporter": "python",
   "pygments_lexer": "ipython3",
   "version": "3.9.7"
  }
 },
 "nbformat": 4,
 "nbformat_minor": 5
}
