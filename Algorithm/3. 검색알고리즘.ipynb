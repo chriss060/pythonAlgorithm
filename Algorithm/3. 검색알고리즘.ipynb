{
 "cells": [
  {
   "cell_type": "markdown",
   "id": "41686abb",
   "metadata": {},
   "source": [
    "# Ch.3 검색 알고리즘 "
   ]
  },
  {
   "cell_type": "markdown",
   "id": "3d2602db",
   "metadata": {},
   "source": [
    "## 3-1 : 선형 검색(Linear Search)"
   ]
  },
  {
   "cell_type": "markdown",
   "id": "409f3b2b",
   "metadata": {},
   "source": [
    "### 선형 검색 : 원하는 키 값을 가진 원소를 찾을 때 까지 맨 앞 부터 스캔하여 순서대로 검색하는 알고리즘"
   ]
  },
  {
   "cell_type": "markdown",
   "id": "9f42552c",
   "metadata": {},
   "source": [
    "#### *선형 검색의 종료 조건 \n",
    "    : 1. if i == len(배열)가 성립하면 스캔 종료\n",
    "      2. if 배열[i] == key가 성립하면 스캔 종료"
   ]
  },
  {
   "cell_type": "markdown",
   "id": "0452a63f",
   "metadata": {},
   "source": [
    "### 실습 3-1 : while문으로 작성한 선형 검색 알고리즘"
   ]
  },
  {
   "cell_type": "code",
   "execution_count": 3,
   "id": "54af2f97",
   "metadata": {},
   "outputs": [
    {
     "name": "stdout",
     "output_type": "stream",
     "text": [
      "원소 수를 입력하세요: 5\n",
      "x[0]: 2\n",
      "x[1]: 5\n",
      "x[2]: 7\n",
      "x[3]: 8\n",
      "x[4]: 9\n",
      "검색할 값을 입력하세요.: 4\n",
      "검색값을 갖는 원소가 존재하지 않습니다.\n"
     ]
    }
   ],
   "source": [
    "from typing import Any, Sequence\n",
    "\n",
    "def seq_search(a: Sequence, key : Any)-> int:\n",
    "    # 시퀀스 a에서 key와 값이 같은 원소를 선형 검색(while 문)\n",
    "    i = 0\n",
    "    \n",
    "    while True:\n",
    "        if i == len(a):\n",
    "            return -1\n",
    "        if a[i] == key:\n",
    "            return i\n",
    "        i+=1\n",
    "\n",
    "if __name__ == '__main__':\n",
    "    \n",
    "    num = int(input('원소 수를 입력하세요: '))\n",
    "    x = [None] * num\n",
    "    \n",
    "    for i in range (num):\n",
    "        x[i] = int(input(f'x[{i}]: '))\n",
    "    \n",
    "    key = int(input('검색할 값을 입력하세요.: '))\n",
    "    \n",
    "    idx = seq_search(x, key)\n",
    "    \n",
    "    if idx == -1:\n",
    "        print('검색값을 갖는 원소가 존재하지 않습니다.')\n",
    "    else:\n",
    "        print(f'검색값은 x[{idx}]에 있습니다.')"
   ]
  },
  {
   "cell_type": "markdown",
   "id": "62f0649d",
   "metadata": {},
   "source": [
    "### 실습 3-2 : for문으로 작성한 선형 검색 알고리즘"
   ]
  },
  {
   "cell_type": "code",
   "execution_count": null,
   "id": "cb02a9d0",
   "metadata": {},
   "outputs": [],
   "source": [
    "from typing import Any, Sequence \n",
    "\n",
    "def seq_search(a: Sequence, key: Any) -> int:\n",
    "    #시퀀스 a에서 key와 값이 같은 원소를 선형 검색\n",
    "    for i in range(len(a)):\n",
    "        if a[i] == key:\n",
    "            return i\n",
    "    return -1"
   ]
  },
  {
   "cell_type": "markdown",
   "id": "9e322037",
   "metadata": {},
   "source": [
    "#### 보초법(Sentinel) : 검색하고자 하는 key값을 배열의 맨끝 인덱스에 저장하는 방법"
   ]
  },
  {
   "cell_type": "markdown",
   "id": "68c774e4",
   "metadata": {},
   "source": [
    "### 실습 3-3 : 선형 검색 알고리즘 with 보초법"
   ]
  },
  {
   "cell_type": "code",
   "execution_count": null,
   "id": "cd20dec2",
   "metadata": {},
   "outputs": [],
   "source": [
    "from typing import Any, Sequence\n",
    "import copy\n",
    "\n",
    "def seq_search(any: Sequence, key: Any) -> int:\n",
    "    #시퀀스 seq에서 key와 일치하는 원소를 선형 검색\n",
    "    a = copy.deepcopy(seq) #seq 복사\n",
    "    a.append(key) #보초 Key 추가\n",
    "    \n",
    "    i = 0\n",
    "    while True:\n",
    "        if a[i] == key:\n",
    "            break\n",
    "        i += 1\n",
    "        \n",
    "    return -1 if i == len(seq) else 1\n",
    "\n",
    "if __name__ == '__main__':\n",
    "    num = int(input('원소 수를 입력하세요.: '))\n",
    "    x = [None] * num\n",
    "    \n",
    "    for i in range(num):\n",
    "        x[i] = int(input(f'x[{i}]: '))\n",
    "        \n",
    "    ky = int(input(\"검색할 값을 입력하세요.: \"))\n",
    "    \n",
    "    idx = seq_search(x,ky)\n",
    "    \n",
    "    if idx == -1 :\n",
    "        print('검색할 값을 갖는 원소가 존재하지 않습니다.')\n",
    "    else:\n",
    "        print(f'검색값은 x[{idx}]에 있습니다.')\n",
    "    "
   ]
  },
  {
   "cell_type": "markdown",
   "id": "f31d509d",
   "metadata": {},
   "source": [
    "## 3-2: 이진검색(Binary Search)"
   ]
  },
  {
   "cell_type": "markdown",
   "id": "64186f88",
   "metadata": {},
   "source": [
    "### : 원소가 정렬된 배열에서 중앙값을 기준으로 탐색 범위를 좁혀가며 검색값을 찾는 방법\n",
    "\n",
    "#### * 이진 검색의 종료조건\n",
    "    : 1) a[center] 값과 key가 일치하는 경우\n",
    "        \n",
    "      2) 검색 범위가 더이상 없는 경우"
   ]
  },
  {
   "cell_type": "markdown",
   "id": "9e8f55bd",
   "metadata": {},
   "source": [
    "### 실습 3-4: 이진 검색 알고리즘"
   ]
  },
  {
   "cell_type": "code",
   "execution_count": 1,
   "id": "079226bc",
   "metadata": {},
   "outputs": [
    {
     "name": "stdout",
     "output_type": "stream",
     "text": [
      "원소 수를 입력하세요.: 5\n",
      "배열 데이터를 오름차순으로 입력하세요.\n",
      "x[0]: 1\n",
      "x[1]: 2\n",
      "x[2]: 3\n",
      "x[3]: 4\n",
      "x[4]: 5\n",
      "검색할 값을 입력하세요.: 4\n",
      "검색값은 x[3]에 있습니다.\n"
     ]
    }
   ],
   "source": [
    "from typing import Any,Sequence\n",
    "\n",
    "def bin_search(a: Sequence, key:Any)-> int:\n",
    "    # 시퀀스 a에서 key와 일치하는 원소 이진검색\n",
    "    pl = 0\n",
    "    pr = len(a) - 1\n",
    "    \n",
    "    while True:\n",
    "        pc = (pl + pr) // 2 # 중앙원소의 인덱스\n",
    "        if a[pc] == key:\n",
    "            return pc\n",
    "        elif a[pc] < key: #key값이 중앙원소보다 큰 경우\n",
    "            pl = pc + 1\n",
    "        else: #key값이 중앙원소보다 작은 경우\n",
    "            pr = pc - 1\n",
    "        \n",
    "        if pl > pr:\n",
    "            break\n",
    "    return -1\n",
    "\n",
    "if __name__ == '__main__':\n",
    "    num = int(input('원소 수를 입력하세요.: '))\n",
    "    x = [None] * num\n",
    "    \n",
    "    print('배열 데이터를 오름차순으로 입력하세요.')\n",
    "\n",
    "    x[0] = int(input('x[0]: '))\n",
    "    \n",
    "    for i in range(1,num):\n",
    "        x[i] =int(input(f'x[{i}]: '))\n",
    "        if x[i] <= x[i-1]: #책오류 : '>=' 를 '<='로 변경\n",
    "            break\n",
    "    \n",
    "    ky = int(input('검색할 값을 입력하세요.: '))\n",
    "    \n",
    "    idx = bin_search(x,ky)\n",
    "    \n",
    "    if idx == -1:\n",
    "        print('검색값을 갖는 원소가 없습니다.')\n",
    "    else:\n",
    "        print(f'검색값은 x[{idx}]에 있습니다.')\n"
   ]
  },
  {
   "cell_type": "markdown",
   "id": "94760bff",
   "metadata": {},
   "source": [
    "### 실습  3C- 3 : 이진 검색 알고리즘 실행과정 출력"
   ]
  },
  {
   "cell_type": "code",
   "execution_count": null,
   "id": "64880b81",
   "metadata": {},
   "outputs": [],
   "source": [
    "from typing import Any, Sequence\n",
    "\n",
    "def bin_search_2(a: Sequence, key : Any) -> int:\n",
    "    #시퀀스 a 에서 key와 일치하는 원소를 이진검색\n",
    "    pl = 0\n",
    "    pr = len(a)-1\n",
    "    \n",
    "    print('    |', end=\"\")\n",
    "    for i in range(len(a)):\n",
    "        print(f'{i: 4}', end='')\n",
    "    \n",
    "    print()\n",
    "    print('----+'+(4 * len(a) + 2) * '-')\n",
    "\n",
    "    while True:\n",
    "        pc = (pl + pr) // 2\n",
    "        \n",
    "        print('    |', end='')\n",
    "        if pl != pc: #p1 원소 위: <-, pc 원소 위: +\n",
    "            print((pl * 4 + 1)*' ' + '<-' + ((pc - p1)* 4)* ' ' + '+', end='')\n",
    "        \n",
    "        else: #pr 원소 위 : <+\n",
    "            print((pc * 4 +1 )* ' ' + '<+', end='')\n",
    "        \n",
    "        if pc != pr:\n",
    "            print(((pr-pc)* 4 - 2) * ' ' + '->')\n",
    "        else:\n",
    "            print('->')\n",
    "        \n",
    "        print(f'{pc:3}|', end='')\n",
    "        for i in range(len(a)):\n",
    "            print(f'{a[i]:4}', end='')\n",
    "        \n",
    "        print('\\n |')\n",
    "        \n",
    "        pc = (pl + pr) // 2 # 중앙원소의 인덱스\n",
    "        if a[pc] == key:\n",
    "            return pc\n",
    "        elif a[pc] < key: #key값이 중앙원소보다 큰 경우\n",
    "            pl = pc + 1\n",
    "        else: #key값이 중앙원소보다 작은 경우\n",
    "            pr = pc - 1\n",
    "        \n",
    "        if pl > pr:\n",
    "            break\n",
    "    return -1"
   ]
  },
  {
   "cell_type": "code",
   "execution_count": null,
   "id": "89b47f37",
   "metadata": {},
   "outputs": [],
   "source": [
    "if __name__ == '__main__':\n",
    "    num = int(input('원소 수를 입력하세요.: '))\n",
    "    x = [None] * num\n",
    "    \n",
    "    print('배열 데이터를 오름차순으로 입력하세요.')\n",
    "\n",
    "    x[0] = int(input('x[0]: '))\n",
    "    \n",
    "    for i in range(1,num):\n",
    "        x[i] =int(input(f'x[{i}]: '))\n",
    "        if x[i] <= x[i-1]: #책오류 : '>=' 를 '<='로 변경\n",
    "            break\n",
    "    \n",
    "    ky = int(input('검색할 값을 입력하세요.: '))\n",
    "    \n",
    "    idx = bin_search(x,ky)\n",
    "    \n",
    "    if idx == -1:\n",
    "        print('검색값을 갖는 원소가 없습니다.')\n",
    "    else:\n",
    "        print(f'검색값은 x[{idx}]에 있습니다.')\n"
   ]
  },
  {
   "cell_type": "markdown",
   "id": "f7d184c1",
   "metadata": {},
   "source": [
    "## 3-3 : 해시법(Hashing)"
   ]
  },
  {
   "cell_type": "markdown",
   "id": "c32d9071",
   "metadata": {},
   "source": [
    "### : 데이터를 저장할 위치를 인덱스로 하는 간단한 연산으로 구하는 것"
   ]
  },
  {
   "cell_type": "markdown",
   "id": "bea2332a",
   "metadata": {},
   "source": [
    "#### 해시 테이블 구성요소\n",
    "    1. 해시 값(hash Value): 해시함수로 키를 해시값으로 변환 한 것\n",
    "    2. 버킷(bucket) : 해시 테이블에서 만들어진 원소"
   ]
  },
  {
   "cell_type": "markdown",
   "id": "54a8c882",
   "metadata": {},
   "source": [
    "#### 해시 충돌(collision)\n",
    "    : 키와 해시값은 일반적으로 n:1 구조이므로 저장할 버킷이 중복되어 충돌 하는 현상이 일어남\n",
    "\n",
    "#### 해시 충돌 해결방법\n",
    "    1. 체인법(chaining) : 해시값이 같은 원소를 연결 리스트로 관리\n",
    "    2. 오픈 주소법: 빈 버킷을 찾을 때 까지 해시 반복"
   ]
  },
  {
   "cell_type": "markdown",
   "id": "f4f93587",
   "metadata": {},
   "source": [
    "#### 1. 체인법(Chaining)\n",
    "    : 배열의 각 버킷(해시테이블)에 저장하여 인덱스를 해시값으로 하는 연결 리스트의 head node를 참조하는 방식으로 구현\n",
    "\n",
    "### 실습 3-5 : 체인법으로 해시 함수 구현하기"
   ]
  },
  {
   "cell_type": "markdown",
   "id": "b12ed29e",
   "metadata": {},
   "source": [
    "#### from __future__ import annotaions\n",
    "\n",
    ": 클래스가 함수보다 나중에 생성될 때 함수에서 클래스를 사용할 수 있도록 forward declartion 문제 해결하는 library\n"
   ]
  },
  {
   "cell_type": "code",
   "execution_count": 1,
   "id": "209abe89",
   "metadata": {},
   "outputs": [],
   "source": [
    "from __future__ import annotations\n",
    "from typing import Any, Type\n",
    "\n",
    "#ChainedHash 클래스 불러오기 \n",
    "import hashlib \n",
    "\n",
    "class Node:\n",
    "    #해시를 구성하는 노드\n",
    "    \n",
    "    def __init__(self, key: Any, value: Any, next: Node) -> None:\n",
    "        #초기화\n",
    "        self.key = key\n",
    "        self.value = value #해시 값\n",
    "        self.next = next #다른 노드를 참조하는 next : Node type\n"
   ]
  },
  {
   "cell_type": "code",
   "execution_count": 2,
   "id": "ad6ca6b6",
   "metadata": {},
   "outputs": [],
   "source": [
    "class ChainedHash:\n",
    "    \n",
    "    def __init__(self, capacity: int)-> None :\n",
    "        #초기화\n",
    "        self.capacity = capacity\n",
    "        self.table = [None] * self.capacity\n",
    "    \n",
    "    def hash_value(self, key:Any) -> int:\n",
    "        #해시 값을 구함\n",
    "        if isinstance(key, int): #key값이 int인 경우: key를 capacity로 나눈 값이 value\n",
    "            return key%self.capacity\n",
    "        #key 값이 int가 아닌 경우 : hashlib 라이브러리에서 형변환을 거친 후 value값 계산\n",
    "        return(int(hashlib.sha256(str(key).encode()).hexdigest(), 16)%self.capacity)"
   ]
  },
  {
   "cell_type": "markdown",
   "id": "4f30306f",
   "metadata": {},
   "source": [
    "#### search( ) 함수가 원소 검색하는 과정\n",
    "    1. 해시 함수를 사용해 키를 해시값으로 변환\n",
    "    2. 해시 값을 인덱스로 하는 버킷 주목\n",
    "    3. 버킷이 참조하는 연결리스트를 맨 앞 부터 차례로 스캔 (키와 같은 값 발견 : 성공, 원소의 맨끝까지 스캔 후 발견 하지 못함 : 실패)\n",
    "\n",
    "#### add( ) 함수가 원소 추가하는 과정\n",
    "    1. 해시 함수를 사용해 키를 해시값으로 변환\n",
    "    2. 해시 값을 인덱스로 하는 버킷 주목\n",
    "    3. 버킷이 참조하는 연결리스트를 맨 앞부터 차례로 선형 검색 실시.\n",
    "       키와 같은 값이 발견 되면 키가 이미 존재하므로 추가 실패 / 원소의 맨 끝까지 발견되지 않으면 리스트 맨 앞에 노드 추가"
   ]
  },
  {
   "cell_type": "code",
   "execution_count": 3,
   "id": "5b33fbcd",
   "metadata": {},
   "outputs": [],
   "source": [
    "    def search(self, key:Any) -> Any:\n",
    "        #키가 key인 원소를 검색해 값을 반환\n",
    "        hash = self.hash_value(key)\n",
    "        p = self.table[hash]\n",
    "        \n",
    "        while p is not None:\n",
    "            if p.key == key:\n",
    "                return p.value #검색 성공\n",
    "            p = p.next \n",
    "        \n",
    "        return None  #검색 실패\n",
    "    \n",
    "    def add(self, key:Any, value: Any) ->bool:\n",
    "        #키가 key이고 값이 value인 원소 추가\n",
    "        hash = self.hash_value(key)\n",
    "        p = self.table[hash]\n",
    "        \n",
    "        while p is not None:\n",
    "            if p.key == key: # key가 이미 존재하는 경우\n",
    "                return False\n",
    "            p = p.next #다음 인덱스를 가리켜 넘김\n",
    "        \n",
    "        temp = Node(key, value, self.table[hash])\n",
    "        self.table[hash] = temp\n",
    "        return True"
   ]
  },
  {
   "cell_type": "code",
   "execution_count": null,
   "id": "e0ef940b",
   "metadata": {},
   "outputs": [],
   "source": [
    "    def remove(self, key:Any)-> bool:\n",
    "        \n",
    "        hash = self.hash_value(key)\n",
    "        #해시 값을 갖는 노드 p 임의로 생성\n",
    "        p = self.table[hash]\n",
    "        pp = None\n",
    "        \n",
    "        while p is not None:\n",
    "            if p.key == key:\n",
    "                if pp is None: \n",
    "                    self.table[hash] = p.next\n",
    "                else:\n",
    "                    pp.next = p.next\n",
    "                return True\n",
    "            pp = p\n",
    "            p = p.next\n",
    "        return False\n",
    "\n",
    "    def dump(self) -> None:\n",
    "        #해시 테이블 덤프\n",
    "        for i in range(self.capacity):\n",
    "            p = self.table[i]\n",
    "            print(i, end='')\n",
    "            while p is not None:\n",
    "                print(f' ->{p.key} ({p.value})', end='')\n",
    "                p = p.next\n",
    "            \n",
    "            print()\n",
    "        \n",
    "        "
   ]
  },
  {
   "cell_type": "markdown",
   "id": "f5b06d13",
   "metadata": {},
   "source": [
    "### 실습 3-6: 체인법을 구현하는 해시 클래스 사용"
   ]
  },
  {
   "cell_type": "markdown",
   "id": "f84c8a8d",
   "metadata": {},
   "source": [
    "#### enum 열거형 \n",
    ":열거형(Enumerated Type). 해당 언어의 상수 역할을 하는 식별자\n",
    "\n",
    "특정 상태를 하나의 집합으로 만들어 관리함으로써 코드를 정리하는데 수월함. 가독성이 높아지고 문서화에 도움이 됨.\n"
   ]
  },
  {
   "cell_type": "code",
   "execution_count": null,
   "id": "b67ed963",
   "metadata": {},
   "outputs": [],
   "source": [
    "#Enum 생성 방법 1 :클래스로 상속 받기\n",
    "from enum import Enum\n",
    "\n",
    "class fruits(Enum):\n",
    "    orange = 0\n",
    "    lemon = 1\n",
    "    pear = 2\n",
    "\n",
    "#Enum 생성 방법 2 : Enum() 생성자로 변수에 바로 할당 \n",
    "\n",
    "fruits = Enum('Fruits', ['orange':0, 'lemon':1, 'pear':2])\n",
    "\n",
    "print(fruits)"
   ]
  },
  {
   "cell_type": "code",
   "execution_count": null,
   "id": "978d828e",
   "metadata": {},
   "outputs": [],
   "source": [
    "from enum import Enum\n",
    "\n",
    "Menu = Enum('Menu', ['추가', '삭제', '덤프', '종료'])\n",
    "\n",
    "def select_menu() -> Menu:\n",
    "    #메뉴 선택\n",
    "    s = [f'({m.value}){m.name}' for m in Menu]\n",
    "    \n",
    "    while True:\n",
    "        print(*s, sep ='    ', end='')\n",
    "        n = int(input(': '))\n",
    "        if 1 <= n <= len(Menu):\n",
    "            return Menu(n)\n",
    "\n",
    "hash = ChainedHash(13) #크기가 13인 해시 테이블 생성\n",
    "\n",
    "while True:\n",
    "    menu = select_menu()\n",
    "    \n",
    "    if menu == Menu.추가:\n",
    "        key = int(input('추가할 키를 입력하세요 : '))\n",
    "        val = input('추가할 값을 입력하세요: ')\n",
    "        \n",
    "        if not hash.add(key, val):\n",
    "            print('추가를 실패했습니다!')\n",
    "    \n",
    "    elif menu == Menu.삭제:\n",
    "        key = int(input('삭제할 키를 입력하세요: '))\n",
    "        if not hash.remove(key):\n",
    "            print('삭제를 실패했습니다.')\n",
    "    \n",
    "    elif menu == Menu.검색:\n",
    "        key = int(input('검색할 키를 입력하세요: '))\n",
    "        t = hash.search(key)\n",
    "        if t is not None:\n",
    "            print(f'검색한 키를 갖는 값은 {t}입니다.')\n",
    "        else:\n",
    "            print('검색할 데이터가 없습니다.')\n",
    "    \n",
    "    elif menu == Menu.덤프:\n",
    "        hash.dump()\n",
    "    \n",
    "    else:\n",
    "        break"
   ]
  },
  {
   "cell_type": "markdown",
   "id": "b89ef12c",
   "metadata": {},
   "source": [
    "#### 2. 오픈 주소법(Open Addressing)\n",
    "    :충돌이 발생할 경우 rehashing을 통해 빈 버킷을 찾는 방법, closed hasing\n",
    "    "
   ]
  },
  {
   "cell_type": "markdown",
   "id": "7304a482",
   "metadata": {},
   "source": [
    "### 실습 3-7 : 오픈 주소법으로 해시 함수 구현하기"
   ]
  },
  {
   "cell_type": "code",
   "execution_count": null,
   "id": "beb981f4",
   "metadata": {},
   "outputs": [],
   "source": [
    "from __future__ import annotations\n",
    "from typing, import Any, Type\n",
    "from enum import Enum\n",
    "import hashlib\n",
    "\n",
    "# 버킷의 속성\n",
    "class Status(Enum):\n",
    "    OCCUPIED = 0 # 데이터를 저장\n",
    "    EMPTY = 1 # 비어있음 \n",
    "    DELETED = 2 # 삭제 완료 \n",
    "\n",
    "    \n",
    "class Bucket:\n",
    "    \n",
    "    def __init__(self, key: Any = None, value: Any = None, stat: Status = Status.EMPTY) -> None:\n",
    "        \n",
    "        # 초기화\n",
    "        self.key = key\n",
    "        self.value = value\n",
    "        self.stat = stat\n",
    "        \n",
    "    \n",
    "    def set(self, key: Any, value: Any, stat:Status) -> None:\n",
    "        self.key = key \n",
    "        self.value = value\n",
    "        self.stat = stat\n",
    "    \n",
    "    def set_status(self, stat:Status) -> None:\n",
    "        self.stat = stat\n",
    "\n",
    "class OpenHash:\n",
    "    # 오픈 주소법으로 구현하는 해시 클래스\n",
    "    \n",
    "    def __init__(self, capacity: int) -> None:\n",
    "        # 초기화\n",
    "        self.capacity = capacity\n",
    "        self.table = [Bucket()] * self.capacity\n",
    "        \n",
    "    def hash_value(self, key : Any)-> int:\n",
    "        # 해시값 구하는 함수\n",
    "        if isinstance(key, int):\n",
    "            return key % self.capacity\n",
    "        return (int(hashlib.md5(str(key).encode()).hexdigest(), 16)% self.capacity)\n",
    "    \n",
    "    def rehash_value(self, key: Any) -> int:\n",
    "        # 재해시값을 구함\n",
    "        return(self.hash_value(key) + 1) % self.capacity\n",
    "    \n",
    "    def search_node(self, key : Any) -> Any:\n",
    "        #키가 key인 버킷 검색\n",
    "        hash = self.hash_value(key)\n",
    "        p = self.table[hash]\n",
    "        \n",
    "        for i in range(self.capacity):\n",
    "            if p.stat == Status.EMPTY:\n",
    "                break\n",
    "            elif p.stat == Status.OCCUPIED and p.key == key:\n",
    "                return p\n",
    "            hash = self.rehash_value(hash)\n",
    "            p = self.table[hash]\n",
    "            \n",
    "        return None\n",
    "    \n",
    "    def search(self, key: Any) -> Any:\n",
    "        # 키가 key인 원소를 검색하여 값 반환\n",
    "        p = self.search_node(key)\n",
    "        if p is not None:\n",
    "            return p.value\n",
    "        else:\n",
    "            return None\n",
    "    \n",
    "    def add(self, key:Any, value:Any) -> bool:\n",
    "        if self.search(key) is not None:\n",
    "            return False\n",
    "        \n",
    "        hash = self.hash_value(key)\n",
    "        p = self.table[hash]\n",
    "        for i in range(self.capacity):\n",
    "            if p.stat == Status.EMPTY or p.stat == Status.DELETED:\n",
    "                self.table[hash] = Bucket(key, value, Status.OCCUPIED)\n",
    "                return True\n",
    "            \n",
    "            hash = self.rehash_value(hash)\n",
    "            p = self.table[hash]\n",
    "        \n",
    "        return False\n",
    "\n",
    "    def remove(self, key: Any) -> int:\n",
    "        p = self.search_node(key)\n",
    "        if p is None:\n",
    "            return False\n",
    "        \n",
    "        p set_status(Status.DELETED)\n",
    "        return TRUE\n",
    "    \n",
    "    def dump(self) -> None:\n",
    "        \n",
    "        for i in range(self.capacity):\n",
    "            print(f'{i:2} ', end='')\n",
    "            if self.table[i].stat == Status.OCCUPIED:\n",
    "                print(f'{self.table[i].key}({self.table[i].value})')\n",
    "            elif self.table[i].stat == Status.EMPTY:\n",
    "                print('-- 미등록 --')\n",
    "            elif self.table[i].stat == Status.DELETED:\n",
    "                print(\"-- 삭제 완료--\")"
   ]
  },
  {
   "cell_type": "code",
   "execution_count": null,
   "id": "efaf46da",
   "metadata": {},
   "outputs": [],
   "source": [
    "from enum import Enum\n",
    "from open_hash import OpenHash\n",
    "\n",
    "Menu = Enum('Menu', ['추가', '삭제','검색', '종료'])\n",
    "\n",
    "def select_menu()-> Menu:\n",
    "    s = [f'({m.value}){m.name}' for m in Menu]\n",
    "    while True:\n",
    "        print(*s, sep='    ', end='')\n",
    "        n = int(input(\": \"))\n",
    "        if 1 <= n <= len(Menu):\n",
    "            return Menu(n)\n",
    "\n",
    "hash = OpenHash(13)\n",
    "\n",
    "while True:\n",
    "    menu = select_menu()\n",
    "    \n",
    "    if menu == Menu.추가:\n",
    "        key =int(input('추가할 키를 입력하세요. :'))\n",
    "        val = int(input('추가할 값을 입력하세요. :'))\n",
    "        if not hash.add(key,val):\n",
    "            print('추가를 실패했습니다.')\n",
    "            \n",
    "    elif menu == Menu.삭제:\n",
    "        key = int(input('삭제할 키를 입력하세요.: '))\n",
    "        if not hash.remove(key):\n",
    "            print('삭제를 실패했습니다.')\n",
    "            \n",
    "    elif menu == Menu.검색:\n",
    "        key = int(input('검색할 키를 입력하세요.: '))\n",
    "        t = hash.search(key)\n",
    "        if t is not None:\n",
    "            print(f'검색한 키를 갖는 값은 {t}입니다.')\n",
    "        else:\n",
    "            print('검색할 데이터가 없습니다.')\n",
    "        \n",
    "    elif menu == Menu.덤프:\n",
    "        hash.dump()\n",
    "        \n",
    "    else:\n",
    "        break\n"
   ]
  },
  {
   "cell_type": "code",
   "execution_count": null,
   "id": "b030ef1f",
   "metadata": {},
   "outputs": [],
   "source": []
  }
 ],
 "metadata": {
  "kernelspec": {
   "display_name": "Python 3 (ipykernel)",
   "language": "python",
   "name": "python3"
  },
  "language_info": {
   "codemirror_mode": {
    "name": "ipython",
    "version": 3
   },
   "file_extension": ".py",
   "mimetype": "text/x-python",
   "name": "python",
   "nbconvert_exporter": "python",
   "pygments_lexer": "ipython3",
   "version": "3.9.7"
  }
 },
 "nbformat": 4,
 "nbformat_minor": 5
}
